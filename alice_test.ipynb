{
 "cells": [
  {
   "cell_type": "markdown",
   "metadata": {},
   "source": [
    "Варианты графиков: \n",
    "P.S. неудачные"
   ]
  },
  {
   "cell_type": "code",
   "execution_count": null,
   "metadata": {},
   "outputs": [],
   "source": [
    "# Используем FacetGrid для разделения графика по значениям \"target\"\n",
    "graph = sns.FacetGrid(train_df, col=\"target\", height=4, aspect=1.2)\n",
    "\n",
    "# Строим countplot для колонки \"month\" на каждом подграфике\n",
    "graph.map(sns.countplot, \"month\", palette=\"Set1\")\n",
    "\n",
    "# Добавляем заголовок\n",
    "graph.fig.suptitle(\"Распределение месяцев с разделением по 'target'\", y=1.02)\n",
    "\n",
    "# Поворачиваем подписи оси x для лучшей читаемости\n",
    "plt.xticks(rotation=45)\n",
    "\n",
    "# Отображаем график\n",
    "plt.show()"
   ]
  },
  {
   "cell_type": "code",
   "execution_count": null,
   "metadata": {},
   "outputs": [],
   "source": [
    "# Выбираем только числовые признаки, которые хотим включить в парные диаграммы\n",
    "numeric_features = train_df[[\"target\", \"month\"]]\n",
    "\n",
    "# Создаем парные диаграммы\n",
    "sns.pairplot(numeric_features, hue=\"target\", diag_kind=\"hist\")\n",
    "\n",
    "# Добавляем заголовок\n",
    "plt.suptitle(\"Парные диаграммы числовых признаков с разделением по 'target'\", y=1.02)\n",
    "\n",
    "# Отображаем график\n",
    "plt.show()"
   ]
  },
  {
   "cell_type": "code",
   "execution_count": null,
   "metadata": {},
   "outputs": [],
   "source": [
    "# Строим countplot для колонки \"month\" с разделением по значению \"target\"\n",
    "sns.countplot(x=\"month\", hue=\"target\", data=train_df)\n",
    "\n",
    "# Добавляем заголовок и метки осей\n",
    "plt.title(\"Распределение значений 'month' с разделением по 'target'\")\n",
    "plt.xlabel(\"Месяц\")\n",
    "plt.ylabel(\"Количество наблюдений\")\n",
    "\n",
    "\n",
    "# Отображаем график\n",
    "plt.show()"
   ]
  }
 ],
 "metadata": {
  "language_info": {
   "name": "python"
  },
  "orig_nbformat": 4
 },
 "nbformat": 4,
 "nbformat_minor": 2
}
